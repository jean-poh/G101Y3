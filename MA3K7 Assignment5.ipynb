{
 "cells": [
  {
   "cell_type": "code",
   "execution_count": 1978,
   "id": "cdc85958-5315-44af-939e-26b679570b7d",
   "metadata": {},
   "outputs": [],
   "source": [
    "#define the function to find P_K(G_i;n)\n",
    "def find_p(p,n):\n",
    "    if p == \"R\":\n",
    "        p0 = [1,0,0,0,0,0,0,0,0]\n",
    "    elif p == \"J\":\n",
    "        p0 = [0,0,0,0,0,0,0,0,1]\n",
    "    pn = []\n",
    "    if n == 0:\n",
    "        pn.append(p0)\n",
    "    else:\n",
    "        for k in range(0,n):\n",
    "            pnew = []\n",
    "            temp = p0[-1]/9\n",
    "            pnew.append(temp)\n",
    "            for l in range(2,10):\n",
    "                temp = p0[l-2]/(l-1) + p0[l-1]*((l-1)/l)\n",
    "                pnew.append(temp)\n",
    "            pn.append(pnew)\n",
    "            p0 = pnew\n",
    "    return pn[-1]\n",
    "\n",
    "#define the function to print P_K(G_i;n) for a certain K, n and i\n",
    "def print_p(p,n,i):\n",
    "    pn = find_p(p,n)\n",
    "    print(\"Probability\", p, \"in Group\", i, \"after\", n, \"stage(s):\", pn[i-1])"
   ]
  },
  {
   "cell_type": "code",
   "execution_count": 1979,
   "id": "2ec77a93-5c1c-441b-af5b-40841fcbfe7e",
   "metadata": {},
   "outputs": [
    {
     "name": "stdout",
     "output_type": "stream",
     "text": [
      "Probability R in Group 1 after 0 stage(s): 1\n",
      "Probability R in Group 2 after 1 stage(s): 1.0\n",
      "Probability R in Group 3 after 1 stage(s): 0.0\n",
      "Probability R in Group 3 after 4 stage(s): 0.5138888888888888\n",
      "Probability J in Group 9 after 0 stage(s): 1\n",
      "Probability J in Group 1 after 1 stage(s): 0.1111111111111111\n",
      "Probability J in Group 9 after 1 stage(s): 0.8888888888888888\n",
      "Probability J in Group 2 after 1 stage(s): 0.0\n",
      "Probability J in Group 4 after 4 stage(s): 0.018518518518518517\n",
      "Probability J in Group 9 after 4 stage(s): 0.624295076969974\n"
     ]
    }
   ],
   "source": [
    "#print some values of P_K(G_i;n) to cross-check\n",
    "print_p(\"R\",0,1)\n",
    "print_p(\"R\",1,2)\n",
    "print_p(\"R\",1,3)\n",
    "print_p(\"R\",4,3)\n",
    "print_p(\"J\",0,9)\n",
    "print_p(\"J\",1,1)\n",
    "print_p(\"J\",1,9)\n",
    "print_p(\"J\",1,2)\n",
    "print_p(\"J\",4,4)\n",
    "print_p(\"J\",4,9)"
   ]
  },
  {
   "cell_type": "code",
   "execution_count": 1980,
   "id": "5b442845-4181-4ca3-a90a-03122c7dbb7a",
   "metadata": {},
   "outputs": [],
   "source": [
    "#define the function to find P(G_i;n)\n",
    "def find2_p(n):\n",
    "    pnr = find_p(\"R\",n)\n",
    "    pnj = find_p(\"J\",n)\n",
    "    pgin = []\n",
    "    for k in range(0,9):\n",
    "        temp = pnr[k]*pnj[k]\n",
    "        pgin.append(temp)\n",
    "    return pgin\n",
    "\n",
    "#define the function to print P(G_i;n) for a certain n and i\n",
    "def print2_p(n,i):\n",
    "    pgin = find2_p(n)\n",
    "    print(\"Probability that R and J meet in Group\", i, \"after\", n, \"stage(s):\", pgin[i-1])"
   ]
  },
  {
   "cell_type": "code",
   "execution_count": 1981,
   "id": "4525e40a-2995-4053-ad91-7abc2127f2cb",
   "metadata": {},
   "outputs": [
    {
     "name": "stdout",
     "output_type": "stream",
     "text": [
      "Probability that R and J meet in Group 2 after 0 stage(s): 0\n",
      "Probability that R and J meet in Group 2 after 1 stage(s): 0.0\n",
      "Probability that R and J meet in Group 2 after 2 stage(s): 0.05555555555555555\n",
      "Probability that R and J meet in Group 3 after 2 stage(s): 0.0\n",
      "Probability that R and J meet in Group 2 after 3 stage(s): 0.038580246913580245\n",
      "Probability that R and J meet in Group 3 after 3 stage(s): 0.0324074074074074\n",
      "Probability that R and J meet in Group 3 after 4 stage(s): 0.05868484224965705\n"
     ]
    }
   ],
   "source": [
    "#print some values of P(G_i;n) to cross-check\n",
    "print2_p(0,2)\n",
    "print2_p(1,2)\n",
    "print2_p(2,2)\n",
    "print2_p(2,3)\n",
    "print2_p(3,2)\n",
    "print2_p(3,3)\n",
    "print2_p(4,3)"
   ]
  },
  {
   "cell_type": "code",
   "execution_count": 1982,
   "id": "0b83273f-8074-499a-882e-0c967f5ab9a2",
   "metadata": {},
   "outputs": [],
   "source": [
    "#define the function to find P(n)\n",
    "def find3_p(n):\n",
    "    pgin = find2_p(n)\n",
    "    total = sum(pgin)\n",
    "    return total\n",
    "\n",
    "#define the function to print P(n) for a certain n\n",
    "def print3_p(n):\n",
    "    total = find3_p(n)\n",
    "    print(\"Probability that R and J meet in any group after\", n, \"stage(s):\", total)"
   ]
  },
  {
   "cell_type": "code",
   "execution_count": 1983,
   "id": "d9e8e524-f699-4d0e-8691-c485eb728b7f",
   "metadata": {},
   "outputs": [
    {
     "name": "stdout",
     "output_type": "stream",
     "text": [
      "Probability that R and J meet in any group after 1 stage(s): 0.0\n",
      "Probability that R and J meet in any group after 2 stage(s): 0.05555555555555555\n",
      "Probability that R and J meet in any group after 3 stage(s): 0.07098765432098764\n",
      "Probability that R and J meet in any group after 4 stage(s): 0.08521947873799725\n",
      "Probability that R and J meet in any group after 150 stage(s): 0.14070590993779267\n"
     ]
    }
   ],
   "source": [
    "#print some values of P(n) to cross-check\n",
    "print3_p(1)\n",
    "print3_p(2)\n",
    "print3_p(3)\n",
    "print3_p(4)\n",
    "print3_p(150)"
   ]
  },
  {
   "cell_type": "code",
   "execution_count": 1984,
   "id": "1d387b30-eee6-4576-8097-54892a5e488f",
   "metadata": {},
   "outputs": [],
   "source": [
    "#define the function to plot the sequence P(n) up to n\n",
    "def plot(n):\n",
    "    vals = []\n",
    "    for k in range(1,n+1):\n",
    "        vals.append(find3_p(k))\n",
    "    subs = np.arange(1,len(vals)+1)\n",
    "    plt.semilogy(subs,vals)\n",
    "    plt.savefig('graph.png')"
   ]
  },
  {
   "cell_type": "code",
   "execution_count": 1985,
   "id": "ae0e6ad1-30f6-4589-871b-88f00fc19bb0",
   "metadata": {},
   "outputs": [
    {
     "data": {
      "image/png": "[encoded data removed]",
      "text/plain": [
       "<Figure size 640x480 with 1 Axes>"
      ]
     },
     "metadata": {},
     "output_type": "display_data"
    }
   ],
   "source": [
    "#plot the sequence P(n) up to n=150\n",
    "plot(150)"
   ]
  },
  {
   "cell_type": "code",
   "execution_count": 1986,
   "id": "0a38b4c5-c970-44f0-93d3-72b5785419ce",
   "metadata": {},
   "outputs": [
    {
     "name": "stdout",
     "output_type": "stream",
     "text": [
      "Probability that R and J meet in any group after 20 stage(s): 0.15542856163167282\n",
      "Probability that R and J meet in any group after 21 stage(s): 0.15712013863913055\n",
      "Probability that R and J meet in any group after 22 stage(s): 0.15860292692531858\n",
      "Probability that R and J meet in any group after 23 stage(s): 0.15987685982399297\n",
      "Probability that R and J meet in any group after 24 stage(s): 0.16094299932694475\n",
      "Probability that R and J meet in any group after 25 stage(s): 0.16180261332351448\n",
      "Probability that R and J meet in any group after 26 stage(s): 0.1624564669292749\n",
      "Probability that R and J meet in any group after 27 stage(s): 0.16290448210492137\n",
      "Probability that R and J meet in any group after 28 stage(s): 0.16314581777100748\n",
      "Probability that R and J meet in any group after 29 stage(s): 0.1631793375482705\n",
      "Probability that R and J meet in any group after 30 stage(s): 0.16300437124248507\n",
      "Probability that R and J meet in any group after 31 stage(s): 0.16262164134252838\n",
      "Probability that R and J meet in any group after 32 stage(s): 0.16203421542299865\n",
      "Probability that R and J meet in any group after 33 stage(s): 0.1612483552209485\n",
      "Probability that R and J meet in any group after 34 stage(s): 0.16027415770260062\n",
      "Probability that R and J meet in any group after 35 stage(s): 0.15912591668713197\n",
      "Probability that R and J meet in any group after 36 stage(s): 0.15782216998491147\n",
      "Probability that R and J meet in any group after 37 stage(s): 0.15638543189324383\n",
      "Probability that R and J meet in any group after 38 stage(s): 0.15484164083472002\n",
      "Probability that R and J meet in any group after 39 stage(s): 0.15321937476139372\n",
      "Probability that R and J meet in any group after 40 stage(s): 0.15154890171549618\n"
     ]
    }
   ],
   "source": [
    "#print the values of P(n) for n in [20,40]\n",
    "for k in range(20,41):\n",
    "    print3_p(k)"
   ]
  }
 ],
 "metadata": {
  "kernelspec": {
   "display_name": "Python [conda env:base] *",
   "language": "python",
   "name": "conda-base-py"
  },
  "language_info": {
   "codemirror_mode": {
    "name": "ipython",
    "version": 3
   },
   "file_extension": ".py",
   "mimetype": "text/x-python",
   "name": "python",
   "nbconvert_exporter": "python",
   "pygments_lexer": "ipython3",
   "version": "3.12.7"
  }
 },
 "nbformat": 4,
 "nbformat_minor": 5
}
