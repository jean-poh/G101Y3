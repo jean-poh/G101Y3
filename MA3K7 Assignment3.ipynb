{
 "cells": [
  {
   "cell_type": "code",
   "execution_count": 694,
   "id": "091813fa-48f9-4c49-84e5-9462f80b14ca",
   "metadata": {},
   "outputs": [],
   "source": [
    "from itertools import combinations\n",
    "\n",
    "#define the function to generate all the possible branches for a specific node in our tree diagram\n",
    "def generate_combs(hat):\n",
    "    temp = list(combinations(sorted(hat),2))\n",
    "    combs = []\n",
    "    [combs.append(x) for x in temp if x not in combs]\n",
    "    return combs\n",
    "\n",
    "#define the function to generate all the possible branches for some n\n",
    "def generate_branch(n):\n",
    "    hat_list = []\n",
    "    hat = list(range(1,n+1))\n",
    "    hat_list.append(hat)\n",
    "    combs_list = []\n",
    "    combs = generate_combs(hat)\n",
    "    combs_list.append(combs)\n",
    "    if n == 1:\n",
    "        return hat_list       \n",
    "    i = 0\n",
    "    j = 0\n",
    "    x_list = []\n",
    "    for l in range(0, n-2):\n",
    "        x_list.append(1)\n",
    "    while True:\n",
    "        if j == -1:\n",
    "            break\n",
    "        hat_list = hat_list[0:j+1]\n",
    "        combs_list = combs_list[0:j+1]\n",
    "        hat = []\n",
    "        a = hat_list[j]\n",
    "        b = list(combs_list[j][i])\n",
    "        [hat.append(c) for c in a if c not in b or b.remove(c)]\n",
    "        hat.append(abs(combs_list[j][i][0] - combs_list[j][i][1]))\n",
    "        hat_list.append(sorted(hat))\n",
    "        print(\"stage\", j+1, \"combination =\", combs_list[j][i])\n",
    "        combs = generate_combs(hat)\n",
    "        combs_list.append(combs)\n",
    "        if len(hat_list[-1]) == 1:\n",
    "            print(hat_list)\n",
    "            print()\n",
    "            if n == 2:\n",
    "                break\n",
    "            elif x_list[-1] == len(combs_list[-3]):\n",
    "                for l in range(0, n-2):\n",
    "                    if x_list[l] == len(combs_list[l]):\n",
    "                        x_done = l\n",
    "                        break\n",
    "                for l in range(0, n-2):\n",
    "                    if l > x_done:\n",
    "                        x_list[l] = 1\n",
    "                    elif l == x_done:\n",
    "                        x_list[l] = 1\n",
    "                        j = j-((n-1)-l)\n",
    "                        i = i+x_list[l-1]\n",
    "                        x_list[l-1] = x_list[l-1]+1\n",
    "            else:\n",
    "                i = i+x_list[-1]\n",
    "                j = j-1\n",
    "                x_list[-1] = x_list[-1]+1\n",
    "        else:\n",
    "            i = 0\n",
    "            j = j+1"
   ]
  },
  {
   "cell_type": "code",
   "execution_count": 695,
   "id": "d42a1137-d24f-43ed-b017-cf43a2a961b6",
   "metadata": {},
   "outputs": [
    {
     "data": {
      "text/plain": [
       "[[1]]"
      ]
     },
     "execution_count": 695,
     "metadata": {},
     "output_type": "execute_result"
    }
   ],
   "source": [
    "generate_branch(1)"
   ]
  },
  {
   "cell_type": "code",
   "execution_count": 696,
   "id": "09dbece0-c026-4907-900b-aee45116be0f",
   "metadata": {},
   "outputs": [
    {
     "name": "stdout",
     "output_type": "stream",
     "text": [
      "stage 1 combination = (1, 2)\n",
      "[[1, 2], [1]]\n",
      "\n"
     ]
    }
   ],
   "source": [
    "generate_branch(2)"
   ]
  },
  {
   "cell_type": "code",
   "execution_count": 697,
   "id": "5303e4c2-1512-4328-84c6-2da350a71dfe",
   "metadata": {},
   "outputs": [
    {
     "name": "stdout",
     "output_type": "stream",
     "text": [
      "stage 1 combination = (1, 2)\n",
      "stage 2 combination = (1, 3)\n",
      "[[1, 2, 3], [1, 3], [2]]\n",
      "\n",
      "stage 1 combination = (1, 3)\n",
      "stage 2 combination = (2, 2)\n",
      "[[1, 2, 3], [2, 2], [0]]\n",
      "\n",
      "stage 1 combination = (2, 3)\n",
      "stage 2 combination = (1, 1)\n",
      "[[1, 2, 3], [1, 1], [0]]\n",
      "\n"
     ]
    }
   ],
   "source": [
    "generate_branch(3)"
   ]
  },
  {
   "cell_type": "code",
   "execution_count": 698,
   "id": "11803827-6fe8-47b3-b742-99ee71e509c3",
   "metadata": {},
   "outputs": [
    {
     "name": "stdout",
     "output_type": "stream",
     "text": [
      "stage 1 combination = (1, 2)\n",
      "stage 2 combination = (1, 3)\n",
      "stage 3 combination = (2, 4)\n",
      "[[1, 2, 3, 4], [1, 3, 4], [2, 4], [2]]\n",
      "\n",
      "stage 2 combination = (1, 4)\n",
      "stage 3 combination = (3, 3)\n",
      "[[1, 2, 3, 4], [1, 3, 4], [3, 3], [0]]\n",
      "\n",
      "stage 2 combination = (3, 4)\n",
      "stage 3 combination = (1, 1)\n",
      "[[1, 2, 3, 4], [1, 3, 4], [1, 1], [0]]\n",
      "\n",
      "stage 1 combination = (1, 3)\n",
      "stage 2 combination = (2, 2)\n",
      "stage 3 combination = (0, 4)\n",
      "[[1, 2, 3, 4], [2, 2, 4], [0, 4], [4]]\n",
      "\n",
      "stage 2 combination = (2, 4)\n",
      "stage 3 combination = (2, 2)\n",
      "[[1, 2, 3, 4], [2, 2, 4], [2, 2], [0]]\n",
      "\n",
      "stage 1 combination = (1, 4)\n",
      "stage 2 combination = (2, 3)\n",
      "stage 3 combination = (1, 3)\n",
      "[[1, 2, 3, 4], [2, 3, 3], [1, 3], [2]]\n",
      "\n",
      "stage 2 combination = (3, 3)\n",
      "stage 3 combination = (0, 2)\n",
      "[[1, 2, 3, 4], [2, 3, 3], [0, 2], [2]]\n",
      "\n",
      "stage 1 combination = (2, 3)\n",
      "stage 2 combination = (1, 1)\n",
      "stage 3 combination = (0, 4)\n",
      "[[1, 2, 3, 4], [1, 1, 4], [0, 4], [4]]\n",
      "\n",
      "stage 2 combination = (1, 4)\n",
      "stage 3 combination = (1, 3)\n",
      "[[1, 2, 3, 4], [1, 1, 4], [1, 3], [2]]\n",
      "\n",
      "stage 1 combination = (2, 4)\n",
      "stage 2 combination = (1, 2)\n",
      "stage 3 combination = (1, 3)\n",
      "[[1, 2, 3, 4], [1, 2, 3], [1, 3], [2]]\n",
      "\n",
      "stage 2 combination = (1, 3)\n",
      "stage 3 combination = (2, 2)\n",
      "[[1, 2, 3, 4], [1, 2, 3], [2, 2], [0]]\n",
      "\n",
      "stage 2 combination = (2, 3)\n",
      "stage 3 combination = (1, 1)\n",
      "[[1, 2, 3, 4], [1, 2, 3], [1, 1], [0]]\n",
      "\n",
      "stage 1 combination = (3, 4)\n",
      "stage 2 combination = (1, 1)\n",
      "stage 3 combination = (0, 2)\n",
      "[[1, 2, 3, 4], [1, 1, 2], [0, 2], [2]]\n",
      "\n",
      "stage 2 combination = (1, 2)\n",
      "stage 3 combination = (1, 1)\n",
      "[[1, 2, 3, 4], [1, 1, 2], [1, 1], [0]]\n",
      "\n"
     ]
    }
   ],
   "source": [
    "generate_branch(4)"
   ]
  }
 ],
 "metadata": {
  "kernelspec": {
   "display_name": "Python [conda env:base] *",
   "language": "python",
   "name": "conda-base-py"
  },
  "language_info": {
   "codemirror_mode": {
    "name": "ipython",
    "version": 3
   },
   "file_extension": ".py",
   "mimetype": "text/x-python",
   "name": "python",
   "nbconvert_exporter": "python",
   "pygments_lexer": "ipython3",
   "version": "3.12.7"
  }
 },
 "nbformat": 4,
 "nbformat_minor": 5
}
