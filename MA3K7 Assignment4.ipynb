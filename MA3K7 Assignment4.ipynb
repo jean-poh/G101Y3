{
 "cells": [
  {
   "cell_type": "code",
   "execution_count": 9,
   "id": "f5f792c3-1639-43e4-9867-9f50564965c0",
   "metadata": {},
   "outputs": [],
   "source": [
    "import sys\n",
    "from fractions import Fraction\n",
    "import numpy as np\n",
    "import scipy.linalg as LA\n",
    "\n",
    "sys.set_int_max_str_digits(0)\n",
    "\n",
    "#define the function to find P(n) using the recurrence relation\n",
    "def find_pn(n):\n",
    "    p1_num = 1\n",
    "    p1_den = 1\n",
    "    p2_num = 1\n",
    "    p2_den = 2\n",
    "    if n == 1:\n",
    "        pn_num = p1_num\n",
    "        pn_den = p1_den\n",
    "    elif n == 2:\n",
    "        pn_num = p2_num\n",
    "        pn_den = p2_den\n",
    "    else:\n",
    "        pn_den = 2**(n-1)\n",
    "        for n in range(0,n-2):\n",
    "            pn_num = 2*p1_num + p2_num\n",
    "            p1_num = p2_num\n",
    "            p2_num = pn_num\n",
    "    print(Fraction(pn_num, pn_den))"
   ]
  },
  {
   "cell_type": "code",
   "execution_count": 10,
   "id": "788fbeae-fe23-42e0-896c-fe332ab6bec5",
   "metadata": {},
   "outputs": [
    {
     "name": "stdout",
     "output_type": "stream",
     "text": [
      "11184811/16777216\n"
     ]
    }
   ],
   "source": [
    "#find P(25) using the recurrence relation\n",
    "find_pn(25)"
   ]
  },
  {
   "cell_type": "code",
   "execution_count": 11,
   "id": "b47aeea7-0b46-4d41-a9d0-00baf2641797",
   "metadata": {},
   "outputs": [],
   "source": [
    "#define the function to find the solution to the recurrence relation\n",
    "def sol(p1,p2):\n",
    "    A = np.array([[p1,p2],[1,0]])\n",
    "    lam, P = np.linalg.eig(A)\n",
    "    \n",
    "    B = np.array([[1,1],lam])\n",
    "    b = np.array([1,1/2])\n",
    "    C = LA.solve(B,b)\n",
    "    \n",
    "    print(lam)\n",
    "    print(C)"
   ]
  },
  {
   "cell_type": "code",
   "execution_count": 12,
   "id": "14ec7f1e-3cea-4acf-9985-334c89deaa95",
   "metadata": {},
   "outputs": [
    {
     "name": "stdout",
     "output_type": "stream",
     "text": [
      "[ 1.  -0.5]\n",
      "[0.66666667 0.33333333]\n"
     ]
    }
   ],
   "source": [
    "#find the solution to the recurrence relation for the unbiased coin case\n",
    "sol(1/2,1/2)"
   ]
  }
 ],
 "metadata": {
  "kernelspec": {
   "display_name": "Python [conda env:base] *",
   "language": "python",
   "name": "conda-base-py"
  },
  "language_info": {
   "codemirror_mode": {
    "name": "ipython",
    "version": 3
   },
   "file_extension": ".py",
   "mimetype": "text/x-python",
   "name": "python",
   "nbconvert_exporter": "python",
   "pygments_lexer": "ipython3",
   "version": "3.12.7"
  }
 },
 "nbformat": 4,
 "nbformat_minor": 5
}
