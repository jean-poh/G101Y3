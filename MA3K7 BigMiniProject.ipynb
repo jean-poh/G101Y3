{
 "cells": [
  {
   "cell_type": "code",
   "execution_count": 271,
   "id": "489d701c-6975-4cb8-bf6a-f3c90bf7ed8f",
   "metadata": {},
   "outputs": [],
   "source": [
    "from fractions import Fraction\n",
    "import numpy as np\n",
    "import matplotlib.pyplot as plt"
   ]
  },
  {
   "cell_type": "code",
   "execution_count": 272,
   "id": "df00a57f-a567-4065-b1f8-fb6d7e0c4530",
   "metadata": {},
   "outputs": [],
   "source": [
    "#define the function that allows the user to play the game\n",
    "def game():\n",
    "    while True:\n",
    "        try: \n",
    "            n = int(input(\"How many glasses are in the circle?\"))\n",
    "            break\n",
    "        except:\n",
    "            print(\"Error: non-integer entered.\")\n",
    "    glasses = [0]*n\n",
    "    while True:\n",
    "        while True:\n",
    "            try:\n",
    "                ali = input(\"How much water does Ali add to each cup?\")\n",
    "                ali_list = [float(Fraction(a)) for a in ali.split()]\n",
    "                if sum(ali_list) != 0.5 or len(ali_list) != n or not all(0 <= a <= 0.5 for a in ali_list):\n",
    "                    raise Exception\n",
    "                break\n",
    "            except:\n",
    "                print(\"Error: invalid volumes.\")\n",
    "        for i in range(0,n):\n",
    "            glasses[i] = glasses[i]+ali_list[i]\n",
    "        print(\"After Ali's turn:\", glasses)\n",
    "        if any(glass > 1 for glass in glasses):\n",
    "            print(\"Ali wins!\")\n",
    "            break\n",
    "        while True:\n",
    "            try:\n",
    "                beth = int(input(\"What is the number of the first of the two adjacent glasses that Beth will empty?\"))\n",
    "                if not 0 < beth <= n:\n",
    "                    raise Exception\n",
    "                break\n",
    "            except:\n",
    "                print(\"Error: invalid number.\")\n",
    "        glasses[(beth-1)%n] = 0\n",
    "        glasses[beth%n] = 0\n",
    "        print(\"After Beth's turn:\", glasses)"
   ]
  },
  {
   "cell_type": "code",
   "execution_count": 273,
   "id": "531b204f-3f4e-4143-89a5-4a750c6340c9",
   "metadata": {},
   "outputs": [],
   "source": [
    "#call the function to play the game (remove hashtag to play)\n",
    "#game()"
   ]
  },
  {
   "cell_type": "code",
   "execution_count": 283,
   "id": "3fd20470-15c0-421e-8897-9a1cfdbcaeb6",
   "metadata": {},
   "outputs": [],
   "source": [
    "#define the function to plot the sequence v_k up to k = 50 for 6 <= n <= N\n",
    "def plot(N):\n",
    "    vals2 = []\n",
    "    for i in range(6,n+1):\n",
    "        vals = []\n",
    "        for k in range(1,51):\n",
    "            vals.append((1-(1/i)-(i/4))*(1-(2/i))**(k-1)+(i/4)-(1/2))\n",
    "        vals2.append(vals)\n",
    "    subs = np.arange(1,len(vals2[0])+1)\n",
    "    for j in range(0,len(vals2),2):\n",
    "        labell = \"n=\"+str(j+6)\n",
    "        plt.plot(subs, vals2[j], label=labell)\n",
    "    two = [2]*len(vals2[0])\n",
    "    plt.plot(subs, two)\n",
    "    plt.legend(prop={'size': 9})\n",
    "    plt.savefig('graph.png')"
   ]
  },
  {
   "cell_type": "code",
   "execution_count": 285,
   "id": "22d4ee2a-04c3-466f-858f-0437639f6435",
   "metadata": {},
   "outputs": [
    {
     "ename": "NameError",
     "evalue": "name 'N' is not defined",
     "output_type": "error",
     "traceback": [
      "\u001b[1;31m---------------------------------------------------------------------------\u001b[0m",
      "\u001b[1;31mNameError\u001b[0m                                 Traceback (most recent call last)",
      "Cell \u001b[1;32mIn[285], line 1\u001b[0m\n\u001b[1;32m----> 1\u001b[0m plot(N)\n",
      "\u001b[1;31mNameError\u001b[0m: name 'N' is not defined"
     ]
    }
   ],
   "source": [
    "plot(N)"
   ]
  },
  {
   "cell_type": "code",
   "execution_count": null,
   "id": "26da9d6f-7e2b-4978-9c85-c733e0e77f6f",
   "metadata": {},
   "outputs": [],
   "source": []
  }
 ],
 "metadata": {
  "kernelspec": {
   "display_name": "Python [conda env:base] *",
   "language": "python",
   "name": "conda-base-py"
  },
  "language_info": {
   "codemirror_mode": {
    "name": "ipython",
    "version": 3
   },
   "file_extension": ".py",
   "mimetype": "text/x-python",
   "name": "python",
   "nbconvert_exporter": "python",
   "pygments_lexer": "ipython3",
   "version": "3.12.7"
  }
 },
 "nbformat": 4,
 "nbformat_minor": 5
}
